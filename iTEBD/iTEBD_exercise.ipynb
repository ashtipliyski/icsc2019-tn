{
 "cells": [
  {
   "cell_type": "markdown",
   "metadata": {},
   "source": [
    "# iTEBD algorithm for the Ising model"
   ]
  },
  {
   "cell_type": "code",
   "execution_count": null,
   "metadata": {},
   "outputs": [],
   "source": [
    "import numpy as np\n",
    "import matplotlib.pyplot as plt\n",
    "from scipy import integrate\n",
    "from scipy.linalg import svd, expm"
   ]
  },
  {
   "cell_type": "markdown",
   "metadata": {},
   "source": [
    "Definitions of the Pauli matrices"
   ]
  },
  {
   "cell_type": "code",
   "execution_count": null,
   "metadata": {},
   "outputs": [],
   "source": [
    "sx = np.array([[0., 1.], [1., 0.]])\n",
    "sy = np.array([[0.,-1.j], [1.j,0.]])\n",
    "sz = np.array([[1., 0.], [0., -1.]])\n",
    "s0 = np.eye(2)"
   ]
  },
  {
   "cell_type": "markdown",
   "metadata": {},
   "source": [
    "Definition of the Hamilton operator and the imaginary time evolution operator that we need in the iTEBD step"
   ]
  },
  {
   "cell_type": "code",
   "execution_count": null,
   "metadata": {},
   "outputs": [],
   "source": [
    "def init_ising(J, hx, hz, L, delta):\n",
    "    \"\"\" Returns the Hamilton opertator and the Theta\"\"\"\n",
    "    d = 2\n",
    "    U_bond = []\n",
    "    H_bond = []\n",
    "    for i in range(L):\n",
    "        H = -J * np.kron(sz, sz) - hx * (np.kron(sx, s0) + np.kron(s0, sx)) / 2. - hz * (\n",
    "            np.kron(sz, s0) + np.kron(s0, sz)) / 2.\n",
    "        H_bond.append(np.reshape(H, (d, d, d, d)))\n",
    "        U_bond.append(np.reshape(expm(-delta * H), (d, d, d, d)))\n",
    "    return U_bond, H_bond"
   ]
  },
  {
   "cell_type": "markdown",
   "metadata": {},
   "source": [
    "Calculation of expectation values for operators that act on bonds (on two sites) or on a single site"
   ]
  },
  {
   "cell_type": "code",
   "execution_count": null,
   "metadata": {},
   "outputs": [],
   "source": [
    "def bond_expectation(gamma, lambd, O_list):\n",
    "    \"\"\" Expectation value for a bond operator \"\"\"\n",
    "    E = []\n",
    "    L = len(gamma)\n",
    "    for i_bond in range(L):\n",
    "        BB = np.tensordot(gamma[i_bond], gamma[np.mod(i_bond + 1, L)], axes=(2, 1))\n",
    "        sBB = np.tensordot(np.diag(lambd[np.mod(i_bond, L)]), BB, axes=(1, 1))\n",
    "        C = np.tensordot(sBB, O_list[i_bond], axes=([1, 2], [2, 3]))\n",
    "        sBB = np.conj(sBB)\n",
    "        E.append(np.squeeze(np.tensordot(sBB, C, axes=([0, 3, 1, 2], [0, 1, 2, 3]))).item())\n",
    "    return E\n",
    "\n",
    "def site_expectation(gamma, lambd, O_list):\n",
    "    \"\"\" Expectation value for a site operator \"\"\"\n",
    "    E = []\n",
    "    L = len(gamma)\n",
    "    for isite in range(0, L):\n",
    "        sB = np.tensordot(np.diag(lambd[np.mod(isite, L)]), gamma[isite], axes=(1, 1))\n",
    "        C = np.tensordot(sB, O_list[isite], axes=(1, 0))\n",
    "        sB = sB.conj()\n",
    "        E.append(np.squeeze(np.tensordot(sB, C, axes=([0, 1, 2], [0, 2, 1]))).item())\n",
    "    return (E)"
   ]
  },
  {
   "cell_type": "markdown",
   "metadata": {},
   "source": [
    "Function that performs the sweep for a two-site system\n",
    "This is the actual algorithm that we looked at in the lecture.\n",
    "\n",
    "**TODO**:\n",
    "- Have a look at the function sweep implemented below and try to understand why the tensors are contracted in this way"
   ]
  },
  {
   "cell_type": "code",
   "execution_count": null,
   "metadata": {},
   "outputs": [],
   "source": [
    "def sweep(gamma, lambd, U_bond, chi):\n",
    "    \"\"\" Perform one time evolution step \"\"\"\n",
    "    L = len(gamma)\n",
    "    d = gamma[0].shape[0]\n",
    "    for k in [0,1]:\n",
    "        ia = k\n",
    "        ib = np.mod(k + 1, L)\n",
    "        chia = gamma[ia].shape[1]\n",
    "        chic = gamma[ib].shape[2]\n",
    "\n",
    "        # Construct theta matrix and time evolution #\n",
    "        theta = np.tensordot(gamma[ia], gamma[ib], axes=(2, 1))  # i a j c\n",
    "        theta = np.tensordot(U_bond[k], theta, axes=([2, 3], [0, 2]))  # i' j' a c\n",
    "        theta = np.tensordot(np.diag(lambd[ia]), theta, axes=([1, 2]))  # a i' j' c\n",
    "        theta = np.reshape(np.transpose(theta, (1, 0, 2, 3)),\n",
    "                           (d * chia, d * chic))  # (i' a) (j' c)\n",
    "\n",
    "        # Singular value decomposition #\n",
    "        U, S, Vd = svd(theta, full_matrices=0, lapack_driver='gesvd')\n",
    "        # (S is sorted descending)\n",
    "        chi2 = min(np.sum(S > 10.**(-10)), chi)\n",
    "\n",
    "        S = S[:chi2]\n",
    "        invsq = np.sqrt(sum(S**2))\n",
    "        U = U[:, :chi2]  # (i' a) b\n",
    "        Vd = Vd[:chi2, :]  # b (j' c)\n",
    "\n",
    "        # Obtain the new values for gamma and lambda #\n",
    "        lambd[ib] = S / invsq\n",
    "        \n",
    "\n",
    "        U = np.reshape(U, (d, chia, chi2))\n",
    "        U = np.transpose(np.tensordot(np.diag(lambd[ia]**(-1)), U, axes=(1, 1)), (1, 0, 2))\n",
    "        gamma[ia] = np.tensordot(U, np.diag(lambd[ib]), axes=(2, 0))\n",
    "        gamma[ib] = np.transpose(np.reshape(Vd, (chi2, d, chic)), (1, 0, 2))"
   ]
  },
  {
   "cell_type": "markdown",
   "metadata": {},
   "source": [
    "Convergence of energy for a given value of $\\delta$\n",
    "We want to see that the energy actually converges against the correct value.\n",
    "The function \"f\" defined below calculates the exact solution for the energy for the given parameters.\n",
    "\n",
    "**TODO**:\n",
    "- Measure the energy in every step of the loop and store the values\n",
    "- Plot the values of energy (and the correct value)"
   ]
  },
  {
   "cell_type": "code",
   "execution_count": null,
   "metadata": {},
   "outputs": [],
   "source": [
    "%matplotlib notebook\n",
    "\n",
    "chi=10\n",
    "J=1. #Do not change this value since the exact solution uses this as energy scale\n",
    "hx=0.5\n",
    "hz=0.0 #Do not change this value since we cannot solve the model exactly otherwise\n",
    "n_imaginary=200\n",
    "delta=0.001\n",
    "\n",
    "# Generate a random initial state\n",
    "gamma=[np.random.rand(2,chi,chi)]*2\n",
    "lambd=[np.random.rand(chi)]*2\n",
    "\n",
    "N = int(n_imaginary / np.sqrt(delta))\n",
    "U_bond, H_bond = init_ising(J, hx, hz, 2, delta)\n",
    "for i in range(N):\n",
    "    sweep(gamma, lambd, U_bond, chi)\n",
    "    #Measure here\n",
    "    \n",
    "# Calculate exact groundstate energy\n",
    "def f(k, hx):\n",
    "    return -np.sqrt(1 + hx**2 - 2 * hx * np.cos(k)) / np.pi\n",
    "E0_exact = integrate.quad(f, 0, np.pi, args=(hx, ))[0]\n",
    "\n",
    "fig,ax0 = plt.subplots()\n",
    "#Plot the energy\n",
    "ax0.set_xlabel('iteration')\n",
    "ax0.set_ylabel('E')"
   ]
  },
  {
   "cell_type": "markdown",
   "metadata": {},
   "source": [
    "Convergence of the energy for varying values of $\\delta$\n",
    "In the next cell, we calculate the energy for different values of the timestep $\\delta$.\n",
    "\n",
    "**TODO**\n",
    "- Evaluate the error of the energy after the last iteration of the iTEBD algorithm and store the values\n",
    "- Plot the dependence of the error in energy on $\\delta$"
   ]
  },
  {
   "cell_type": "code",
   "execution_count": null,
   "metadata": {},
   "outputs": [],
   "source": [
    "chi=10\n",
    "J=1.\n",
    "hx=0.5\n",
    "hz=0.0\n",
    "n_imaginary=100\n",
    "\n",
    "%matplotlib notebook\n",
    "\"\"\"run imaginary time evolution for the infinite ising chain with iTEBD\"\"\"\n",
    "# Generate a random initial state\n",
    "gamma=[np.random.rand(2,chi,chi)]*2\n",
    "lambd=[np.random.rand(chi)]*2\n",
    "\n",
    "#Use different values of delta to show the influence of different timesteps\n",
    "deltavec=[0.1, 0.01, 0.001, 0.0001]\n",
    "\n",
    "for delta in deltavec:\n",
    "    N = int(n_imaginary / np.sqrt(delta))\n",
    "    U_bond, H_bond = init_ising(J, hx, hz, 2, delta)\n",
    "    for i in range(N):\n",
    "        sweep(gamma, lambd, U_bond, chi)\n",
    "    m = np.mean(site_expectation(gamma, lambd, 2 * [sz]))\n",
    "    #Calculate the energy (again)\n",
    "    \n",
    "    # Calculate exact groundstate energy\n",
    "    if hz == 0 and np.abs(J) == 1:\n",
    "        def f(k, hx):\n",
    "            return -np.sqrt(1 + hx**2 - 2 * hx * np.cos(k)) / np.pi\n",
    "        E0_exact = integrate.quad(f, 0, np.pi, args=(hx, ))[0]\n",
    "        ### Uncomment if the energy calculation is inserted ###\n",
    "        #print(\"--> delta = {D:.6f}, E = {E:2.6f} (dE = {dE:2.2e}), m = {m:2.6f}\".format(D=delta, E=E,dE=E - E0_exact,m=np.abs(m)))\n",
    "    #else:\n",
    "        #print(\"--> delta = {D:.6f}, m = {m:2.6f}, E = {E:2.6f}\".format(D=delta, m=np.abs(m), E=E))\n",
    "        \n",
    "if hz==0 and np.abs(J) == 1:\n",
    "    fig, axes=plt.subplots()\n",
    "    #Plot the error in energy and delta\n",
    "    #NOTE: A loglog plot is more suitable than a linear plot\n",
    "    axes.set_xlabel(r'$\\delta$')\n",
    "    axes.set_ylabel(r'dE')"
   ]
  },
  {
   "cell_type": "code",
   "execution_count": null,
   "metadata": {},
   "outputs": [],
   "source": []
  }
 ],
 "metadata": {
  "language_info": {
   "name": "python",
   "pygments_lexer": "ipython3"
  }
 },
 "nbformat": 4,
 "nbformat_minor": 2
}
