{
 "cells": [
  {
   "cell_type": "markdown",
   "metadata": {},
   "source": [
    "# iTEBD algorithm for the Ising model"
   ]
  },
  {
   "cell_type": "markdown",
   "metadata": {},
   "source": [
    "This code is based on a code presented by Frank Pollmann at the FOR 1807 Winter School 2018. The code has been partially modified and extended."
   ]
  },
  {
   "cell_type": "markdown",
   "metadata": {},
   "source": [
    "The iTEBD (imaginary Time Evolution Block Decimation) algorithm is a method to either evolve states in time or to minimize the energy.\n",
    "In the following, we will use it to minimize the energy of the Ising Hamiltonian subject to a magnetic field in x- and z-direction:\n",
    "\n",
    "$$H=\\sum_{i} \\sigma^z_i\\sigma^z_{i+1}+h_x \\sigma^x_i + h_z\\sigma^z_i$$\n",
    "\n",
    "In the algorithm we use the following order of dimensions for tensors: [physical, left, right], the order for diagonal matrices is [left,right].\n",
    "Before we actually look into the code, here is a pictorial summary of the contractions in the algorithm.\n",
    "The reading order is from left to right, top to bottom.\n",
    "\n",
    "![Contractions in the iTEBD algorithm](img_notebook/iTEBD_contractions.png)"
   ]
  },
  {
   "cell_type": "markdown",
   "metadata": {},
   "source": [
    "Import some packages"
   ]
  },
  {
   "cell_type": "code",
   "execution_count": null,
   "metadata": {},
   "outputs": [],
   "source": [
    "import numpy as np\n",
    "import matplotlib.pyplot as plt\n",
    "from scipy import integrate\n",
    "from scipy.linalg import svd, expm"
   ]
  },
  {
   "cell_type": "markdown",
   "metadata": {},
   "source": [
    "Definitions of the Pauli matrices"
   ]
  },
  {
   "cell_type": "code",
   "execution_count": null,
   "metadata": {},
   "outputs": [],
   "source": [
    "sx = np.array([[0., 1.], [1., 0.]])\n",
    "sy = np.array([[0.,-1.j], [1.j,0.]])\n",
    "sz = np.array([[1., 0.], [0., -1.]])\n",
    "s0 = np.eye(2)"
   ]
  },
  {
   "cell_type": "markdown",
   "metadata": {},
   "source": [
    "Definition of the Hamilton operator and the imaginary time evolution operator that we need in the iTEBD step"
   ]
  },
  {
   "cell_type": "code",
   "execution_count": null,
   "metadata": {},
   "outputs": [],
   "source": [
    "def init_ising(J, hx, hz, delta):\n",
    "    \"\"\" Returns the Hamilton opertator and the time evolution operator\"\"\"\n",
    "    d = 2\n",
    "    H = -J * np.kron(sz, sz) - hx * (np.kron(sx, s0) + np.kron(s0, sx)) / 2. - hz * (\n",
    "       np.kron(sz, s0) + np.kron(s0, sz)) / 2.\n",
    "    H_bond=np.reshape(H,(d,d,d,d))\n",
    "    U_bond=np.reshape(expm(-delta * H), (d, d, d, d))\n",
    "    return U_bond, H_bond"
   ]
  },
  {
   "cell_type": "markdown",
   "metadata": {},
   "source": [
    "Function that performs the sweep for a two-site system\n",
    "This is the actual algorithm that we looked at in the lecture.\n",
    "\n",
    "**TODO**:\n",
    "- Have a look at the function sweep implemented below and try to understand why the tensors are contracted in this way"
   ]
  },
  {
   "cell_type": "code",
   "execution_count": null,
   "metadata": {},
   "outputs": [],
   "source": [
    "def sweep(gamma, lambd, U_bond, chi):\n",
    "    \"\"\" Perform one time evolution step and calculate the energy\"\"\"\n",
    "    L = len(gamma)\n",
    "    d = gamma[0].shape[0]\n",
    "    Evec =[]\n",
    "    for k in [0,1]:\n",
    "        ia = k\n",
    "        ib = np.mod(k + 1, L)\n",
    "\n",
    "        # Construct theta matrix #\n",
    "        # Contraction 1\n",
    "        theta=np.tensordot(np.diag(lambd[ib]),gamma[ia],axes=(1,1))\n",
    "        # Contraction 2\n",
    "        theta=np.tensordot(theta,np.diag(lambd[ia]),axes=(2,0))\n",
    "        # Contraction 3\n",
    "        theta=np.tensordot(theta,gamma[ib],axes=(2,1))\n",
    "        # Contraction 4\n",
    "        theta=np.tensordot(theta,np.diag(lambd[ib]),axes=(3,0))\n",
    "        \n",
    "        # Apply the time evolution #\n",
    "        theta=np.tensordot(theta,U_bond,axes=([1,2],[0,1]))\n",
    "\n",
    "        # Reshape the tensor to do SVD\n",
    "        theta=np.reshape(np.transpose(theta,(2,0,3,1)),(d*chi,d*chi))\n",
    "        # Singular value decomposition #\n",
    "        U, S, Vd = svd(theta, full_matrices=0, lapack_driver='gesvd')\n",
    "        # (S is sorted descending)   \n",
    "        V=Vd.T\n",
    "        S = S[:chi]\n",
    "        invsq = np.sqrt(sum(S**2))\n",
    "        lambd[ia]=S/invsq\n",
    "        \n",
    "        lbinv=np.diag(lambd[ib]**(-1))\n",
    "        U=np.reshape(U[:d*chi,:chi],(d,chi,chi))\n",
    "        gamma[ia]=np.transpose(np.tensordot(lbinv,U,axes=(1,1)),(1,0,2))\n",
    "        \n",
    "        V=np.transpose(np.reshape(V[:d*chi,:chi],(d,chi,chi)),(0,2,1))\n",
    "        gamma[ib]=np.tensordot(V,lbinv,axes=(2,0))\n",
    "        \n",
    "        Evec.append(-np.log(np.sum(theta**2))/delta/2.)\n",
    "    return np.mean(Evec)"
   ]
  },
  {
   "cell_type": "markdown",
   "metadata": {},
   "source": [
    "Convergence of energy for a given value of $\\delta$\n",
    "We want to see that the energy actually converges against the correct value.\n",
    "The function \"f\" defined below calculates the exact solution for the energy for the given parameters.\n",
    "\n",
    "**TODO**:\n",
    "- Measure the energy in every step of the loop and store the values\n",
    "- Plot the values of energy (and the correct value)"
   ]
  },
  {
   "cell_type": "code",
   "execution_count": null,
   "metadata": {},
   "outputs": [],
   "source": [
    "%matplotlib notebook\n",
    "\n",
    "chi=10\n",
    "J=1. #Do not change this value, since it gives the relative energy scale\n",
    "hx=0.5\n",
    "hz=0.0 #Do not change this value since we cannot solve the model exactly otherwise\n",
    "n_imaginary=300\n",
    "delta=0.001\n",
    "\n",
    "# Generate a random initial state\n",
    "gamma=[np.random.rand(2,chi,chi)]*2\n",
    "lambd=[np.random.rand(chi)]*2\n",
    "\n",
    "N = int(n_imaginary / np.sqrt(delta))\n",
    "U_bond, H_bond = init_ising(J, hx, hz, delta)\n",
    "for i in range(N):\n",
    "    #TODO: Measure here\n",
    "    sweep(gamma, lambd, U_bond, chi)\n",
    "def f(k, hx):\n",
    "    return -np.sqrt(1 + hx**2 - 2 * hx * np.cos(k)) / np.pi\n",
    "E0_exact = integrate.quad(f, 0, np.pi, args=(hx, ))[0]\n",
    "\n",
    "#Do you want to plot all energy values or could there be a reason to leave out some of the values?\n",
    "fig,ax0 = plt.subplots(1,1,figsize=(10, 5))\n",
    "#TODO: Plot here\n",
    "ax0.set_xlabel('iteration')\n",
    "ax0.set_ylabel('E');"
   ]
  },
  {
   "cell_type": "markdown",
   "metadata": {},
   "source": [
    "Convergence of the energy for varying values of $\\delta$\n",
    "In the next cell, we calculate the energy for different values of the timestep $\\delta$.\n",
    "\n",
    "**TODO**\n",
    "- Evaluate the error of the energy after the last iteration of the iTEBD algorithm and store the values\n",
    "- Plot the dependence of the error in energy on $\\delta$"
   ]
  },
  {
   "cell_type": "code",
   "execution_count": null,
   "metadata": {},
   "outputs": [],
   "source": [
    "chi=10\n",
    "J=1. #Do not change this value, since it gives the relative energy scale\n",
    "hx=0.5\n",
    "hz=0.0\n",
    "n_imaginary=100\n",
    "\n",
    "%matplotlib notebook\n",
    "\"\"\"run imaginary time evolution for the infinite ising chain with iTEBD\"\"\"\n",
    "# Generate a random initial state\n",
    "gamma=[np.random.rand(2,chi,chi)]*2\n",
    "lambd=[np.random.rand(chi)]*2\n",
    "\n",
    "#Use different values of delta to show the influence of different timesteps\n",
    "deltavec=[0.1, 0.01, 0.001, 0.0001]\n",
    "dEvec=[]\n",
    "for delta in deltavec:\n",
    "    N = int(n_imaginary / np.sqrt(delta))\n",
    "    U_bond, H_bond = init_ising(J, hx, hz, delta)\n",
    "    for i in range(N):\n",
    "        #TODO: Store the energy (again)\n",
    "        sweep(gamma, lambd, U_bond, chi)\n",
    "\n",
    "    # Calculate exact groundstate energy\n",
    "    if hz == 0 and np.abs(J) == 1:\n",
    "        def f(k, hx):\n",
    "            return -np.sqrt(1 + hx**2 - 2 * hx * np.cos(k)) / np.pi\n",
    "        E0_exact = integrate.quad(f, 0, np.pi, args=(hx, ))[0]\n",
    "        #TODO: Save the difference between exact energy and calculated energy\n",
    "        #print(\"--> delta = {D:.6f}, E = {E:2.6f} (dE = {dE:2.2e})\".format(D=delta, E=E,dE=E - E0_exact))\n",
    "    #else:\n",
    "        #print(\"--> delta = {D:.6f}, m = {m:2.6f}, E = {E:2.6f}\".format(D=delta, m=np.abs(m), E=E))\n",
    "        \n",
    "if hz==0 and np.abs(J) == 1:\n",
    "    fig, axes=plt.subplots()\n",
    "    # TODO: Plot the energy. A loglog plot might be reasonable. \n",
    "    axes.set_xlabel(r'$\\delta$')\n",
    "    axes.set_ylabel(r'dE')"
   ]
  },
  {
   "cell_type": "code",
   "execution_count": null,
   "metadata": {},
   "outputs": [],
   "source": []
  }
 ],
 "metadata": {
  "language_info": {
   "name": "python",
   "pygments_lexer": "ipython3"
  }
 },
 "nbformat": 4,
 "nbformat_minor": 2
}
