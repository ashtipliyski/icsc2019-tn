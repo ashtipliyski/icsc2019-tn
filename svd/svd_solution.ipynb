{
 "cells": [
  {
   "cell_type": "markdown",
   "metadata": {},
   "source": [
    "# SVD compression"
   ]
  },
  {
   "cell_type": "markdown",
   "metadata": {},
   "source": [
    "In order to understand the truncating function of SVD a bit better, we will have a look at the its application on image data. We treat the image as a matrix and apply the SVD to this data."
   ]
  },
  {
   "cell_type": "markdown",
   "metadata": {},
   "source": [
    "Import of some useful modules"
   ]
  },
  {
   "cell_type": "code",
   "execution_count": null,
   "metadata": {},
   "outputs": [],
   "source": [
    "%matplotlib notebook\n",
    "\n",
    "import numpy as np\n",
    "import matplotlib.pyplot as plt\n",
    "from PIL import Image"
   ]
  },
  {
   "cell_type": "markdown",
   "metadata": {},
   "source": [
    "Load an image using PIL and convert it to an black and white image."
   ]
  },
  {
   "cell_type": "code",
   "execution_count": null,
   "metadata": {},
   "outputs": [],
   "source": [
    "from ipywidgets import interact, interactive, fixed, interact_manual, IntSlider\n",
    "import ipywidgets as widgets\n",
    "import os\n",
    "from os.path import join\n",
    "image_list=[(f,join('images',f)) for f in os.listdir('images')]\n",
    "filename=\"joshua.jpg\"\n",
    "def set_filename(image):\n",
    "    global filename\n",
    "    filename=image\n",
    "interact(set_filename,image=image_list);"
   ]
  },
  {
   "cell_type": "code",
   "execution_count": null,
   "metadata": {},
   "outputs": [],
   "source": [
    "img=Image.open(filename).convert('L')\n",
    "img_np=np.asarray(img)\n",
    "#Plot the original image in grayscale\n",
    "fig, axes=plt.subplots()\n",
    "axes.imshow(img_np,cmap=plt.cm.gray);"
   ]
  },
  {
   "cell_type": "markdown",
   "metadata": {},
   "source": [
    "Apply the SVD to the image, truncate it and display the result. Make sure that the largest singular values are taken into account when you truncate."
   ]
  },
  {
   "cell_type": "code",
   "execution_count": null,
   "metadata": {},
   "outputs": [],
   "source": [
    "trunc=20\n",
    "#Apply the SVD to the array\n",
    "u,s,vh=np.linalg.svd(img_np)\n",
    "reconstruction=u[:,:trunc]@np.diag(s[:trunc])@vh[:trunc,:]\n",
    "#Plot the reconstruction with reduced number of singular values\n",
    "fig,axes=plt.subplots()\n",
    "axes.imshow(reconstruction,cmap=plt.cm.gray);"
   ]
  },
  {
   "cell_type": "markdown",
   "metadata": {},
   "source": [
    "We use the interactive possibilities of Jupyter Notebooks to explore the interplay between image quality and the number of singular values that are taken into account."
   ]
  },
  {
   "cell_type": "code",
   "execution_count": null,
   "metadata": {},
   "outputs": [],
   "source": [
    "fig,axes=plt.subplots()\n",
    "contents=axes.imshow(img, cmap=plt.cm.gray)\n",
    "\n",
    "def update_image_truncated(dim):                                                                                                                                                                                                                                                           \n",
    "    reconstruction=u[:,:dim]@np.diag(s[:dim])@vh[:dim,:]\n",
    "    contents.set_data(reconstruction)\n",
    "interact(update_image_truncated,dim=IntSlider(min=2,max=512,continuous_update=False));"
   ]
  },
  {
   "cell_type": "code",
   "execution_count": null,
   "metadata": {},
   "outputs": [],
   "source": []
  }
 ],
 "metadata": {
  "language_info": {
   "name": "python",
   "pygments_lexer": "ipython3"
  }
 },
 "nbformat": 4,
 "nbformat_minor": 2
}
