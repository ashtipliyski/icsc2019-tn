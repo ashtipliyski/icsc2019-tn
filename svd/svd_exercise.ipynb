{
 "cells": [
  {
   "cell_type": "markdown",
   "metadata": {},
   "source": [
    "# SVD compression"
   ]
  },
  {
   "cell_type": "markdown",
   "metadata": {},
   "source": [
    "In order to understand the truncating function of SVD a bit better, we will have a look at the its application on image data. We treat the image as a matrix and apply the SVD to this data."
   ]
  },
  {
   "cell_type": "markdown",
   "metadata": {},
   "source": [
    "Import of some useful modules"
   ]
  },
  {
   "cell_type": "code",
   "execution_count": null,
   "metadata": {},
   "outputs": [],
   "source": [
    "%matplotlib notebook\n",
    "\n",
    "import numpy as np\n",
    "import matplotlib.pyplot as plt\n",
    "from PIL import Image"
   ]
  },
  {
   "cell_type": "markdown",
   "metadata": {},
   "source": [
    "Load an image using PIL and convert it to an black and white image.\n",
    "\n",
    "**TODO**:\n",
    "- Plot the resulting image (with a gray color map since we only have the luminosity information)"
   ]
  },
  {
   "cell_type": "code",
   "execution_count": null,
   "metadata": {},
   "outputs": [],
   "source": [
    "filename=\"joshua.jpg\"\n",
    "img=Image.open(filename).convert('L')\n",
    "img_np=np.asarray(img)\n",
    "#Plot the original image in grayscale\n"
   ]
  },
  {
   "cell_type": "markdown",
   "metadata": {},
   "source": [
    "Apply the SVD to the image, truncate it and display the result. Make sure that the largest singular values are taken into account when you truncate.\n",
    "\n",
    "**TODO**:\n",
    "- Apply the SVD to the image data (np.linalg.svd)\n",
    "- Use only 50 largest eigenvalues of the SVD and reconstruct the image (see lecture)\n",
    "- Plot the reconstruction"
   ]
  },
  {
   "cell_type": "code",
   "execution_count": null,
   "metadata": {},
   "outputs": [],
   "source": [
    "#Apply the SVD to the array\n",
    "\n",
    "#Reconstruct the image using less singular values\n",
    "\n",
    "#Plot the reconstruction with reduced number of singular values\n"
   ]
  },
  {
   "cell_type": "markdown",
   "metadata": {},
   "source": [
    "We use the interactive possibilities of Jupyter Notebooks to explore the interplay between image quality and the number of singular values that are taken into account.\n",
    "\n",
    "**TODO** (advanced):\n",
    "- Have a look at the interactive capabilities of jupyter (https://ipywidgets.readthedocs.io/en/stable/examples/Using%20Interact.html)\n",
    "- Implement a slider that dynamically adapts the number of singular values used for the reconstruction\n",
    "- How many singular do you need to represent the image well? Why do you not need all the singular values?"
   ]
  },
  {
   "cell_type": "code",
   "execution_count": null,
   "metadata": {},
   "outputs": [],
   "source": [
    "from ipywidgets import interact, IntSlider\n",
    "import ipywidgets as widgets"
   ]
  },
  {
   "cell_type": "code",
   "execution_count": null,
   "metadata": {},
   "outputs": [],
   "source": [
    "fig,axes=plt.subplots()\n",
    "contents=axes.imshow(np.asarray(img), cmap=plt.cm.gray)"
   ]
  }
 ],
 "metadata": {
  "language_info": {
   "name": "python",
   "pygments_lexer": "ipython3"
  }
 },
 "nbformat": 4,
 "nbformat_minor": 2
}
